{
 "cells": [
  {
   "cell_type": "markdown",
   "id": "ca963c29",
   "metadata": {},
   "source": [
    "# Part 1 for class selector"
   ]
  },
  {
   "cell_type": "code",
   "execution_count": 1,
   "id": "2bb31574",
   "metadata": {},
   "outputs": [],
   "source": [
    "from bs4 import BeautifulSoup as soup"
   ]
  },
  {
   "cell_type": "code",
   "execution_count": 2,
   "id": "e8dbea96",
   "metadata": {},
   "outputs": [],
   "source": [
    "html = \"\"\"\n",
    "<!DOCTYPE html>\n",
    "<html lang=\"en\">\n",
    "\n",
    "<head>\n",
    "    <meta charset=\"UTF-8\">\n",
    "    <meta http-equiv=\"X-UA-Compatible\" content=\"IE=edge\">\n",
    "    <meta name=\"viewport\" content=\"width=device-width, initial-scale=1.0\">\n",
    "    <title>Document</title>\n",
    "</head>\n",
    "\n",
    "<style>\n",
    "    .even {\n",
    "        color: blue;\n",
    "    }\n",
    "\n",
    "    .odd {\n",
    "        color: green;\n",
    "    }\n",
    "</style>\n",
    "\n",
    "<body>\n",
    "    <div>\n",
    "        <p class=\"odd\" id=\"first\">First</p>\n",
    "        <p class=\"even\" id=\"second\">Second</p>\n",
    "        <p class=\"odd\" id=\"third\">Third</p>\n",
    "    </div>\n",
    "\n",
    "    <div>\n",
    "        <p class=\"even\" id=\"fourth\">Fourth</p>\n",
    "        <p class=\"odd\" id=\"fifth\">Fifth</p>\n",
    "        <p class=\"even\" id=\"sixth\">Sixth</p>\n",
    "    </div>\n",
    "</body>\n",
    "\n",
    "</html>\n",
    "\"\"\"\n"
   ]
  },
  {
   "cell_type": "code",
   "execution_count": 5,
   "id": "9144fe42",
   "metadata": {},
   "outputs": [],
   "source": [
    "html_soup = soup(html , 'html.parser')"
   ]
  },
  {
   "cell_type": "code",
   "execution_count": 7,
   "id": "a2d67d8b",
   "metadata": {},
   "outputs": [],
   "source": [
    "odds = html_soup.find_all(\"p\" , class_ = \"odd\")"
   ]
  },
  {
   "cell_type": "code",
   "execution_count": 8,
   "id": "1bc4748e",
   "metadata": {},
   "outputs": [
    {
     "data": {
      "text/plain": [
       "[<p class=\"odd\" id=\"first\">First</p>,\n",
       " <p class=\"odd\" id=\"third\">Third</p>,\n",
       " <p class=\"odd\" id=\"fifth\">Fifth</p>]"
      ]
     },
     "execution_count": 8,
     "metadata": {},
     "output_type": "execute_result"
    }
   ],
   "source": [
    "[odd for odd in odds]"
   ]
  },
  {
   "cell_type": "markdown",
   "id": "6de9f360",
   "metadata": {},
   "source": [
    "# part 2 for id selector"
   ]
  },
  {
   "cell_type": "code",
   "execution_count": 9,
   "id": "30a7fe47",
   "metadata": {},
   "outputs": [],
   "source": [
    "first = html_soup.find(\"p\", id=\"first\")"
   ]
  },
  {
   "cell_type": "code",
   "execution_count": 10,
   "id": "55a81db4",
   "metadata": {},
   "outputs": [
    {
     "name": "stdout",
     "output_type": "stream",
     "text": [
      "First\n"
     ]
    }
   ],
   "source": [
    "print(first.text)"
   ]
  }
 ],
 "metadata": {
  "kernelspec": {
   "display_name": "Python 3 (ipykernel)",
   "language": "python",
   "name": "python3"
  },
  "language_info": {
   "codemirror_mode": {
    "name": "ipython",
    "version": 3
   },
   "file_extension": ".py",
   "mimetype": "text/x-python",
   "name": "python",
   "nbconvert_exporter": "python",
   "pygments_lexer": "ipython3",
   "version": "3.9.12"
  }
 },
 "nbformat": 4,
 "nbformat_minor": 5
}
