{
 "cells": [
  {
   "cell_type": "code",
   "execution_count": 1,
   "id": "eb50595e",
   "metadata": {},
   "outputs": [],
   "source": [
    "from splinter import Browser\n",
    "from bs4 import BeautifulSoup as soup\n",
    "from webdriver_manager.chrome import ChromeDriverManager"
   ]
  },
  {
   "cell_type": "code",
   "execution_count": 2,
   "id": "40c6d968",
   "metadata": {},
   "outputs": [],
   "source": [
    "exe_path ={'executable_path': ChromeDriverManager().install()}\n",
    "browser = Browser('chrome' ,**exe_path ,headless = False)"
   ]
  },
  {
   "cell_type": "code",
   "execution_count": 3,
   "id": "d51cf004",
   "metadata": {},
   "outputs": [],
   "source": [
    "url = \"http://books.toscrape.com/\"\n",
    "browser.visit(url)\n",
    "html = browser.html\n",
    "book_soup = soup (html ,'html.parser')"
   ]
  },
  {
   "cell_type": "code",
   "execution_count": 4,
   "id": "45707898",
   "metadata": {},
   "outputs": [
    {
     "data": {
      "text/plain": [
       "<title>\n",
       "    All products | Books to Scrape - Sandbox\n",
       "</title>"
      ]
     },
     "execution_count": 4,
     "metadata": {},
     "output_type": "execute_result"
    }
   ],
   "source": [
    "book_soup.title"
   ]
  },
  {
   "cell_type": "code",
   "execution_count": 5,
   "id": "a31cb644",
   "metadata": {},
   "outputs": [
    {
     "data": {
      "text/plain": [
       "'\\n    All products | Books to Scrape - Sandbox\\n'"
      ]
     },
     "execution_count": 5,
     "metadata": {},
     "output_type": "execute_result"
    }
   ],
   "source": [
    "book_soup.head.title.text"
   ]
  },
  {
   "cell_type": "code",
   "execution_count": 6,
   "id": "c2e97ca4",
   "metadata": {},
   "outputs": [
    {
     "name": "stdout",
     "output_type": "stream",
     "text": [
      "catalogue/a-light-in-the-attic_1000/index.html\n",
      "catalogue/tipping-the-velvet_999/index.html\n",
      "catalogue/soumission_998/index.html\n",
      "catalogue/sharp-objects_997/index.html\n",
      "catalogue/sapiens-a-brief-history-of-humankind_996/index.html\n",
      "catalogue/the-requiem-red_995/index.html\n",
      "catalogue/the-dirty-little-secrets-of-getting-your-dream-job_994/index.html\n",
      "catalogue/the-coming-woman-a-novel-based-on-the-life-of-the-infamous-feminist-victoria-woodhull_993/index.html\n",
      "catalogue/the-boys-in-the-boat-nine-americans-and-their-epic-quest-for-gold-at-the-1936-berlin-olympics_992/index.html\n",
      "catalogue/the-black-maria_991/index.html\n",
      "catalogue/starving-hearts-triangular-trade-trilogy-1_990/index.html\n",
      "catalogue/shakespeares-sonnets_989/index.html\n",
      "catalogue/set-me-free_988/index.html\n",
      "catalogue/scott-pilgrims-precious-little-life-scott-pilgrim-1_987/index.html\n",
      "catalogue/rip-it-up-and-start-again_986/index.html\n",
      "catalogue/our-band-could-be-your-life-scenes-from-the-american-indie-underground-1981-1991_985/index.html\n",
      "catalogue/olio_984/index.html\n",
      "catalogue/mesaerion-the-best-science-fiction-stories-1800-1849_983/index.html\n",
      "catalogue/libertarianism-for-beginners_982/index.html\n",
      "catalogue/its-only-the-himalayas_981/index.html\n"
     ]
    }
   ],
   "source": [
    "book_details = book_soup.find_all(\"div\" , class_ = \"image_container\")\n",
    "for detail in book_details:\n",
    "    book_link = detail.find('a')['href']\n",
    "    print(book_link)\n"
   ]
  },
  {
   "cell_type": "code",
   "execution_count": 8,
   "id": "6160abce",
   "metadata": {},
   "outputs": [
    {
     "name": "stdout",
     "output_type": "stream",
     "text": [
      "algorithms-to-live-by-the-computer-science-of-human-decisions_880/index.html\n",
      "a-world-of-flavor-your-gluten-free-passport_879/index.html\n",
      "a-piece-of-sky-a-grain-of-rice-a-memoir-in-four-meditations_878/index.html\n",
      "a-murder-in-time_877/index.html\n",
      "a-flight-of-arrows-the-pathfinders-2_876/index.html\n",
      "a-fierce-and-subtle-poison_875/index.html\n",
      "a-court-of-thorns-and-roses-a-court-of-thorns-and-roses-1_874/index.html\n",
      "unqualified-how-god-uses-broken-people-to-do-big-things_873/index.html\n",
      "you-are-what-you-love-the-spiritual-power-of-habit_872/index.html\n",
      "william-shakespeares-star-wars-verily-a-new-hope-william-shakespeares-star-wars-4_871/index.html\n",
      "tuesday-nights-in-1980_870/index.html\n",
      "tracing-numbers-on-a-train_869/index.html\n",
      "throne-of-glass-throne-of-glass-1_868/index.html\n",
      "thomas-jefferson-and-the-tripoli-pirates-the-forgotten-war-that-changed-american-history_867/index.html\n",
      "thirteen-reasons-why_866/index.html\n",
      "the-white-cat-and-the-monk-a-retelling-of-the-poem-pangur-ban_865/index.html\n",
      "the-wedding-dress_864/index.html\n",
      "the-vacationers_863/index.html\n",
      "the-third-wave-an-entrepreneurs-vision-of-the-future_862/index.html\n",
      "the-stranger_861/index.html\n",
      "the-shadow-hero-the-shadow-hero_860/index.html\n",
      "the-secret-the-secret-1_859/index.html\n",
      "the-regional-office-is-under-attack_858/index.html\n",
      "the-psychopath-test-a-journey-through-the-madness-industry_857/index.html\n",
      "the-project_856/index.html\n",
      "the-power-of-now-a-guide-to-spiritual-enlightenment_855/index.html\n",
      "the-omnivores-dilemma-a-natural-history-of-four-meals_854/index.html\n",
      "the-nerdy-nummies-cookbook-sweet-treats-for-the-geek-in-all-of-us_853/index.html\n",
      "the-murder-of-roger-ackroyd-hercule-poirot-4_852/index.html\n",
      "the-mistake-off-campus-2_851/index.html\n",
      "the-matchmakers-playbook-wingmen-inc-1_850/index.html\n",
      "the-love-and-lemons-cookbook-an-apple-to-zucchini-celebration-of-impromptu-cooking_849/index.html\n",
      "the-long-shadow-of-small-ghosts-murder-and-memory-in-an-american-city_848/index.html\n",
      "the-kite-runner_847/index.html\n",
      "the-house-by-the-lake_846/index.html\n",
      "the-glittering-court-the-glittering-court-1_845/index.html\n",
      "the-girl-on-the-train_844/index.html\n",
      "the-genius-of-birds_843/index.html\n",
      "the-emerald-mystery_842/index.html\n",
      "the-cookies-cups-cookbook-125-sweet-savory-recipes-reminding-you-to-always-eat-dessert-first_841/index.html\n",
      "the-bridge-to-consciousness-im-writing-the-bridge-between-science-and-our-old-and-new-beliefs_840/index.html\n",
      "the-artists-way-a-spiritual-path-to-higher-creativity_839/index.html\n",
      "the-art-of-war_838/index.html\n",
      "the-argonauts_837/index.html\n",
      "the-10-entrepreneur-live-your-startup-dream-without-quitting-your-day-job_836/index.html\n",
      "suddenly-in-love-lake-haven-1_835/index.html\n",
      "something-more-than-this_834/index.html\n",
      "soft-apocalypse_833/index.html\n",
      "so-youve-been-publicly-shamed_832/index.html\n",
      "shoe-dog-a-memoir-by-the-creator-of-nike_831/index.html\n",
      "shobu-samurai-project-aryoku-3_830/index.html\n",
      "secrets-and-lace-fatal-hearts-1_829/index.html\n",
      "scarlett-epstein-hates-it-here_828/index.html\n",
      "romero-and-juliet-a-tragic-tale-of-love-and-zombies_827/index.html\n",
      "redeeming-love_826/index.html\n",
      "poses-for-artists-volume-1-dynamic-and-sitting-poses-an-essential-reference-for-figure-drawing-and-the-human-form_825/index.html\n",
      "poems-that-make-grown-women-cry_824/index.html\n",
      "nightingale-sing_823/index.html\n",
      "night-sky-with-exit-wounds_822/index.html\n",
      "mrs-houdini_821/index.html\n",
      "modern-romance_820/index.html\n",
      "miss-peregrines-home-for-peculiar-children-miss-peregrines-peculiar-children-1_819/index.html\n",
      "louisa-the-extraordinary-life-of-mrs-adams_818/index.html\n",
      "little-red_817/index.html\n",
      "library-of-souls-miss-peregrines-peculiar-children-3_816/index.html\n",
      "large-print-heart-of-the-pride_815/index.html\n",
      "i-had-a-nice-time-and-other-lies-how-to-find-love-sht-like-that_814/index.html\n",
      "hollow-city-miss-peregrines-peculiar-children-2_813/index.html\n",
      "grumbles_812/index.html\n",
      "full-moon-over-noahs-ark-an-odyssey-to-mount-ararat-and-beyond_811/index.html\n",
      "frostbite-vampire-academy-2_810/index.html\n",
      "follow-you-home_809/index.html\n",
      "first-steps-for-new-christians-print-edition_808/index.html\n",
      "finders-keepers-bill-hodges-trilogy-2_807/index.html\n",
      "fables-vol-1-legends-in-exile-fables-1_806/index.html\n",
      "eureka-trivia-60_805/index.html\n",
      "drive-the-surprising-truth-about-what-motivates-us_804/index.html\n",
      "done-rubbed-out-reightman-bailey-1_803/index.html\n",
      "doing-it-over-most-likely-to-1_802/index.html\n",
      "deliciously-ella-every-day-quick-and-easy-recipes-for-gluten-free-snacks-packed-lunches-and-simple-meals_801/index.html\n",
      "dark-notes_800/index.html\n",
      "daring-greatly-how-the-courage-to-be-vulnerable-transforms-the-way-we-live-love-parent-and-lead_799/index.html\n",
      "close-to-you_798/index.html\n",
      "chasing-heaven-what-dying-taught-me-about-living_797/index.html\n",
      "big-magic-creative-living-beyond-fear_796/index.html\n",
      "becoming-wise-an-inquiry-into-the-mystery-and-art-of-living_795/index.html\n",
      "beauty-restored-riley-family-legacy-novellas-3_794/index.html\n",
      "batman-the-long-halloween-batman_793/index.html\n",
      "batman-the-dark-knight-returns-batman_792/index.html\n",
      "ayumis-violin_791/index.html\n",
      "anonymous_790/index.html\n",
      "amy-meets-the-saints-and-sages_789/index.html\n",
      "amid-the-chaos_788/index.html\n",
      "amatus_787/index.html\n",
      "agnostic-a-spirited-manifesto_786/index.html\n",
      "zealot-the-life-and-times-of-jesus-of-nazareth_785/index.html\n",
      "you-you-1_784/index.html\n",
      "wonder-woman-earth-one-volume-one-wonder-woman-earth-one-1_783/index.html\n",
      "wild-swans_782/index.html\n",
      "why-the-right-went-wrong-conservatism-from-goldwater-to-the-tea-party-and-beyond_781/index.html\n",
      "whole-lotta-creativity-going-on-60-fun-and-unusual-exercises-to-awaken-and-strengthen-your-creativity_780/index.html\n",
      "whats-it-like-in-space-stories-from-astronauts-whove-been-there_779/index.html\n",
      "we-are-robin-vol-1-the-vigilante-business-we-are-robin-1_778/index.html\n",
      "walt-disneys-alice-in-wonderland_777/index.html\n",
      "v-for-vendetta-v-for-vendetta-complete_776/index.html\n",
      "until-friday-night-the-field-party-1_775/index.html\n",
      "unbroken-a-world-war-ii-story-of-survival-resilience-and-redemption_774/index.html\n",
      "twenty-yawns_773/index.html\n",
      "through-the-woods_772/index.html\n",
      "this-is-where-it-ends_771/index.html\n",
      "the-year-of-magical-thinking_770/index.html\n",
      "the-wright-brothers_769/index.html\n",
      "the-white-queen-the-cousins-war-1_768/index.html\n",
      "the-wedding-pact-the-omalleys-2_767/index.html\n",
      "the-time-keeper_766/index.html\n",
      "the-testament-of-mary_765/index.html\n",
      "the-star-touched-queen_764/index.html\n",
      "the-songs-of-the-gods_763/index.html\n",
      "the-song-of-achilles_762/index.html\n",
      "the-rosie-project-don-tillman-1_761/index.html\n"
     ]
    }
   ],
   "source": [
    "#button = book_soup.find(\"li\" , class_ = \"next\")\n",
    "for x in range(1, 7):\n",
    "    html = browser.html\n",
    "    book_soup = soup (html ,'html.parser')\n",
    "    book_details = book_soup.find_all(\"div\" , class_ = \"image_container\")\n",
    "    for detail in book_details:\n",
    "        book_link = detail.find('a')['href']\n",
    "        print(book_link)\n",
    "    btn = book_soup.find_all(\"li\" , \"next\")\n",
    "    for txt in btn:\n",
    "        next_btn = txt.text\n",
    "        browser.links.find_by_text(next_btn).click()\n"
   ]
  }
 ],
 "metadata": {
  "kernelspec": {
   "display_name": "Python 3 (ipykernel)",
   "language": "python",
   "name": "python3"
  },
  "language_info": {
   "codemirror_mode": {
    "name": "ipython",
    "version": 3
   },
   "file_extension": ".py",
   "mimetype": "text/x-python",
   "name": "python",
   "nbconvert_exporter": "python",
   "pygments_lexer": "ipython3",
   "version": "3.9.12"
  }
 },
 "nbformat": 4,
 "nbformat_minor": 5
}
