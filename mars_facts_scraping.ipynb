{
 "cells": [
  {
   "cell_type": "code",
   "execution_count": 1,
   "id": "14410c10",
   "metadata": {},
   "outputs": [],
   "source": [
    "from splinter import Browser\n",
    "from bs4 import BeautifulSoup as soup\n",
    "from webdriver_manager.chrome import ChromeDriverManager"
   ]
  },
  {
   "cell_type": "code",
   "execution_count": 2,
   "id": "24b23f94",
   "metadata": {},
   "outputs": [],
   "source": [
    "exe_path = {'executable_path': ChromeDriverManager().install()}\n",
    "browser = Browser('chrome' , **exe_path , headless = False)"
   ]
  },
  {
   "cell_type": "code",
   "execution_count": 3,
   "id": "b89bb922",
   "metadata": {},
   "outputs": [],
   "source": [
    "url = 'https://galaxyfacts-mars.com/'\n",
    "browser.visit(url)"
   ]
  },
  {
   "cell_type": "code",
   "execution_count": 4,
   "id": "13d319ed",
   "metadata": {},
   "outputs": [],
   "source": [
    "html = browser.html\n",
    "mars_facts = soup(html , 'html.parser')"
   ]
  },
  {
   "cell_type": "code",
   "execution_count": 5,
   "id": "66b89815",
   "metadata": {},
   "outputs": [
    {
     "data": {
      "text/plain": [
       "'Mars Facts - Interesting facts about Planet Mars'"
      ]
     },
     "execution_count": 5,
     "metadata": {},
     "output_type": "execute_result"
    }
   ],
   "source": [
    "mars_facts.head.title.text"
   ]
  },
  {
   "cell_type": "code",
   "execution_count": 6,
   "id": "87e8e4dc",
   "metadata": {},
   "outputs": [
    {
     "data": {
      "text/plain": [
       "[<tr>\n",
       " <th scope=\"row\">Equatorial Diameter:</th>\n",
       " <td>6,792 km</td>\n",
       " </tr>,\n",
       " <tr>\n",
       " <th scope=\"row\">Polar Diameter:</th>\n",
       " <td>6,752 km</td>\n",
       " </tr>,\n",
       " <tr>\n",
       " <th scope=\"row\">Mass:</th>\n",
       " <td>\t6.39 × 10^23 kg (0.11 Earths)</td>\n",
       " </tr>,\n",
       " <tr>\n",
       " <th scope=\"row\">Moons:</th>\n",
       " <td>\t2 ( <span class=\"red\">Phobos </span> &amp; <span class=\"red\"> Deimos </span>)</td>\n",
       " </tr>,\n",
       " <tr>\n",
       " <th scope=\"row\">Orbit Distance:</th>\n",
       " <td>\t227,943,824 km (1.38 AU)</td>\n",
       " </tr>,\n",
       " <tr>\n",
       " <th scope=\"row\">Orbit Period:</th>\n",
       " <td>\t687 days (1.9 years)</td>\n",
       " </tr>,\n",
       " <tr>\n",
       " <th scope=\"row\">Surface Temperature:</th>\n",
       " <td>\t-87 to -5 °C</td>\n",
       " </tr>,\n",
       " <tr>\n",
       " <th scope=\"row\">First Record:</th>\n",
       " <td>\t2nd millennium BC</td>\n",
       " </tr>,\n",
       " <tr>\n",
       " <th scope=\"row\">Recorded By:</th>\n",
       " <td>\tEgyptian astronomers</td>\n",
       " </tr>]"
      ]
     },
     "execution_count": 6,
     "metadata": {},
     "output_type": "execute_result"
    }
   ],
   "source": [
    "table  = mars_facts.find(\"table\" , class_ = \"table table-striped\")\n",
    "rows= table.find_all('tr')\n",
    "rows"
   ]
  },
  {
   "cell_type": "code",
   "execution_count": 7,
   "id": "904c2c12",
   "metadata": {},
   "outputs": [
    {
     "data": {
      "text/plain": [
       "{'Equatorial Diameter:': '6,792 km',\n",
       " 'Polar Diameter:': '6,752 km',\n",
       " 'Mass:': '\\t6.39 × 10^23 kg (0.11 Earths)',\n",
       " 'Moons:': '\\t2 ( Phobos  &  Deimos )',\n",
       " 'Orbit Distance:': '\\t227,943,824 km (1.38 AU)',\n",
       " 'Orbit Period:': '\\t687 days (1.9 years)',\n",
       " 'Surface Temperature:': '\\t-87 to -5 °C',\n",
       " 'First Record:': '\\t2nd millennium BC',\n",
       " 'Recorded By:': '\\tEgyptian astronomers'}"
      ]
     },
     "execution_count": 7,
     "metadata": {},
     "output_type": "execute_result"
    }
   ],
   "source": [
    "mars_facts_data = {}\n",
    "for row in rows:\n",
    "    heading = row.find('th').text\n",
    "    data =row.find('td').text\n",
    "    mars_facts_data[heading] = data\n",
    "mars_facts_data"
   ]
  },
  {
   "cell_type": "code",
   "execution_count": 8,
   "id": "a369985f",
   "metadata": {},
   "outputs": [
    {
     "data": {
      "text/plain": [
       "{'Equatorial Diameter:': '6,792 km',\n",
       " 'Polar Diameter:': '6,752 km',\n",
       " 'Mass:': '6.39 × 10^23 kg (0.11 Earths)',\n",
       " 'Moons:': '2 ( Phobos  &  Deimos )',\n",
       " 'Orbit Distance:': '227,943,824 km (1.38 AU)',\n",
       " 'Orbit Period:': '687 days (1.9 years)',\n",
       " 'Surface Temperature:': '-87 to -5 °C',\n",
       " 'First Record:': '2nd millennium BC',\n",
       " 'Recorded By:': 'Egyptian astronomers'}"
      ]
     },
     "execution_count": 8,
     "metadata": {},
     "output_type": "execute_result"
    }
   ],
   "source": [
    "mars_facts_data = {}\n",
    "for row in rows:\n",
    "    heading = row.find('th').text\n",
    "    data =row.find('td').text.strip()\n",
    "    mars_facts_data[heading] = data\n",
    "mars_facts_data"
   ]
  },
  {
   "cell_type": "markdown",
   "id": "2e9cb48f",
   "metadata": {},
   "source": [
    "# using pandas scrap the table data"
   ]
  },
  {
   "cell_type": "code",
   "execution_count": 9,
   "id": "e7d68762",
   "metadata": {},
   "outputs": [],
   "source": [
    "import pandas as pd"
   ]
  },
  {
   "cell_type": "code",
   "execution_count": 10,
   "id": "0e4040d4",
   "metadata": {},
   "outputs": [
    {
     "data": {
      "text/plain": [
       "[                         0                1                2\n",
       " 0  Mars - Earth Comparison             Mars            Earth\n",
       " 1                Diameter:         6,779 km        12,742 km\n",
       " 2                    Mass:  6.39 × 10^23 kg  5.97 × 10^24 kg\n",
       " 3                   Moons:                2                1\n",
       " 4       Distance from Sun:   227,943,824 km   149,598,262 km\n",
       " 5          Length of Year:   687 Earth days      365.24 days\n",
       " 6             Temperature:     -87 to -5 °C      -88 to 58°C,\n",
       "                       0                              1\n",
       " 0  Equatorial Diameter:                       6,792 km\n",
       " 1       Polar Diameter:                       6,752 km\n",
       " 2                 Mass:  6.39 × 10^23 kg (0.11 Earths)\n",
       " 3                Moons:          2 ( Phobos & Deimos )\n",
       " 4       Orbit Distance:       227,943,824 km (1.38 AU)\n",
       " 5         Orbit Period:           687 days (1.9 years)\n",
       " 6  Surface Temperature:                   -87 to -5 °C\n",
       " 7         First Record:              2nd millennium BC\n",
       " 8          Recorded By:           Egyptian astronomers]"
      ]
     },
     "execution_count": 10,
     "metadata": {},
     "output_type": "execute_result"
    }
   ],
   "source": [
    "df = pd.read_html('https://galaxyfacts-mars.com')\n",
    "df"
   ]
  },
  {
   "cell_type": "code",
   "execution_count": 11,
   "id": "90617867",
   "metadata": {},
   "outputs": [],
   "source": [
    "# Read in HTML tables into a DataFrame\n",
    "df = pd.read_html('https://galaxyfacts-mars.com')\n",
    "# Select the first table\n",
    "mars_df = df[0]\n",
    "\n",
    "# Rename columns\n",
    "mars_df.columns=['description', 'Mars', 'Earth']\n",
    "\n",
    "# Remove the first row from the DataFrame\n",
    "mars_df = mars_df.iloc[1:]"
   ]
  },
  {
   "cell_type": "code",
   "execution_count": 12,
   "id": "f4d229a6",
   "metadata": {},
   "outputs": [
    {
     "data": {
      "text/html": [
       "<div>\n",
       "<style scoped>\n",
       "    .dataframe tbody tr th:only-of-type {\n",
       "        vertical-align: middle;\n",
       "    }\n",
       "\n",
       "    .dataframe tbody tr th {\n",
       "        vertical-align: top;\n",
       "    }\n",
       "\n",
       "    .dataframe thead th {\n",
       "        text-align: right;\n",
       "    }\n",
       "</style>\n",
       "<table border=\"1\" class=\"dataframe\">\n",
       "  <thead>\n",
       "    <tr style=\"text-align: right;\">\n",
       "      <th></th>\n",
       "      <th>0</th>\n",
       "      <th>1</th>\n",
       "    </tr>\n",
       "  </thead>\n",
       "  <tbody>\n",
       "    <tr>\n",
       "      <th>0</th>\n",
       "      <td>Equatorial Diameter:</td>\n",
       "      <td>6,792 km</td>\n",
       "    </tr>\n",
       "    <tr>\n",
       "      <th>1</th>\n",
       "      <td>Polar Diameter:</td>\n",
       "      <td>6,752 km</td>\n",
       "    </tr>\n",
       "    <tr>\n",
       "      <th>2</th>\n",
       "      <td>Mass:</td>\n",
       "      <td>6.39 × 10^23 kg (0.11 Earths)</td>\n",
       "    </tr>\n",
       "    <tr>\n",
       "      <th>3</th>\n",
       "      <td>Moons:</td>\n",
       "      <td>2 ( Phobos &amp; Deimos )</td>\n",
       "    </tr>\n",
       "    <tr>\n",
       "      <th>4</th>\n",
       "      <td>Orbit Distance:</td>\n",
       "      <td>227,943,824 km (1.38 AU)</td>\n",
       "    </tr>\n",
       "    <tr>\n",
       "      <th>5</th>\n",
       "      <td>Orbit Period:</td>\n",
       "      <td>687 days (1.9 years)</td>\n",
       "    </tr>\n",
       "    <tr>\n",
       "      <th>6</th>\n",
       "      <td>Surface Temperature:</td>\n",
       "      <td>-87 to -5 °C</td>\n",
       "    </tr>\n",
       "    <tr>\n",
       "      <th>7</th>\n",
       "      <td>First Record:</td>\n",
       "      <td>2nd millennium BC</td>\n",
       "    </tr>\n",
       "    <tr>\n",
       "      <th>8</th>\n",
       "      <td>Recorded By:</td>\n",
       "      <td>Egyptian astronomers</td>\n",
       "    </tr>\n",
       "  </tbody>\n",
       "</table>\n",
       "</div>"
      ],
      "text/plain": [
       "                      0                              1\n",
       "0  Equatorial Diameter:                       6,792 km\n",
       "1       Polar Diameter:                       6,752 km\n",
       "2                 Mass:  6.39 × 10^23 kg (0.11 Earths)\n",
       "3                Moons:          2 ( Phobos & Deimos )\n",
       "4       Orbit Distance:       227,943,824 km (1.38 AU)\n",
       "5         Orbit Period:           687 days (1.9 years)\n",
       "6  Surface Temperature:                   -87 to -5 °C\n",
       "7         First Record:              2nd millennium BC\n",
       "8          Recorded By:           Egyptian astronomers"
      ]
     },
     "execution_count": 12,
     "metadata": {},
     "output_type": "execute_result"
    }
   ],
   "source": [
    "df[1]"
   ]
  }
 ],
 "metadata": {
  "kernelspec": {
   "display_name": "Python 3 (ipykernel)",
   "language": "python",
   "name": "python3"
  },
  "language_info": {
   "codemirror_mode": {
    "name": "ipython",
    "version": 3
   },
   "file_extension": ".py",
   "mimetype": "text/x-python",
   "name": "python",
   "nbconvert_exporter": "python",
   "pygments_lexer": "ipython3",
   "version": "3.9.12"
  }
 },
 "nbformat": 4,
 "nbformat_minor": 5
}
