{
 "cells": [
  {
   "cell_type": "code",
   "execution_count": 1,
   "id": "eb50595e",
   "metadata": {},
   "outputs": [],
   "source": [
    "from splinter import Browser\n",
    "from bs4 import BeautifulSoup as soup\n",
    "from webdriver_manager.chrome import ChromeDriverManager"
   ]
  },
  {
   "cell_type": "code",
   "execution_count": 2,
   "id": "40c6d968",
   "metadata": {},
   "outputs": [
    {
     "name": "stderr",
     "output_type": "stream",
     "text": [
      "[WDM] - Downloading: 100%|████████████████| 6.29M/6.29M [00:01<00:00, 4.08MB/s]\n"
     ]
    }
   ],
   "source": [
    "exe_path ={'executable_path': ChromeDriverManager().install()}\n",
    "browser = Browser('chrome' ,**exe_path ,headless = False)"
   ]
  },
  {
   "cell_type": "code",
   "execution_count": 3,
   "id": "d51cf004",
   "metadata": {},
   "outputs": [],
   "source": [
    "url = \"http://books.toscrape.com/\"\n",
    "browser.visit(url)\n",
    "html = browser.html\n",
    "book_soup = soup (html ,'html.parser')"
   ]
  },
  {
   "cell_type": "code",
   "execution_count": 4,
   "id": "45707898",
   "metadata": {},
   "outputs": [
    {
     "data": {
      "text/plain": [
       "<title>\n",
       "    All products | Books to Scrape - Sandbox\n",
       "</title>"
      ]
     },
     "execution_count": 4,
     "metadata": {},
     "output_type": "execute_result"
    }
   ],
   "source": [
    "book_soup.title"
   ]
  },
  {
   "cell_type": "code",
   "execution_count": 5,
   "id": "a31cb644",
   "metadata": {},
   "outputs": [
    {
     "data": {
      "text/plain": [
       "'\\n    All products | Books to Scrape - Sandbox\\n'"
      ]
     },
     "execution_count": 5,
     "metadata": {},
     "output_type": "execute_result"
    }
   ],
   "source": [
    "book_soup.head.title.text"
   ]
  },
  {
   "cell_type": "code",
   "execution_count": 6,
   "id": "c2e97ca4",
   "metadata": {},
   "outputs": [],
   "source": [
    "book_details = book_soup.find_all(\"div\" , class_ = \"image_container\")\n",
    "for detail in book_details:\n",
    "    book_link = detail.find('a')['href']\n",
    "    #print(book_link)\n"
   ]
  },
  {
   "cell_type": "code",
   "execution_count": 7,
   "id": "6160abce",
   "metadata": {},
   "outputs": [
    {
     "name": "stdout",
     "output_type": "stream",
     "text": [
      "catalogue/a-light-in-the-attic_1000/index.html\n",
      "catalogue/tipping-the-velvet_999/index.html\n",
      "catalogue/soumission_998/index.html\n",
      "catalogue/sharp-objects_997/index.html\n",
      "catalogue/sapiens-a-brief-history-of-humankind_996/index.html\n",
      "catalogue/the-requiem-red_995/index.html\n",
      "catalogue/the-dirty-little-secrets-of-getting-your-dream-job_994/index.html\n",
      "catalogue/the-coming-woman-a-novel-based-on-the-life-of-the-infamous-feminist-victoria-woodhull_993/index.html\n",
      "catalogue/the-boys-in-the-boat-nine-americans-and-their-epic-quest-for-gold-at-the-1936-berlin-olympics_992/index.html\n",
      "catalogue/the-black-maria_991/index.html\n",
      "catalogue/starving-hearts-triangular-trade-trilogy-1_990/index.html\n",
      "catalogue/shakespeares-sonnets_989/index.html\n",
      "catalogue/set-me-free_988/index.html\n",
      "catalogue/scott-pilgrims-precious-little-life-scott-pilgrim-1_987/index.html\n",
      "catalogue/rip-it-up-and-start-again_986/index.html\n",
      "catalogue/our-band-could-be-your-life-scenes-from-the-american-indie-underground-1981-1991_985/index.html\n",
      "catalogue/olio_984/index.html\n",
      "catalogue/mesaerion-the-best-science-fiction-stories-1800-1849_983/index.html\n",
      "catalogue/libertarianism-for-beginners_982/index.html\n",
      "catalogue/its-only-the-himalayas_981/index.html\n",
      "in-her-wake_980/index.html\n",
      "how-music-works_979/index.html\n",
      "foolproof-preserving-a-guide-to-small-batch-jams-jellies-pickles-condiments-and-more-a-foolproof-guide-to-making-small-batch-jams-jellies-pickles-condiments-and-more_978/index.html\n",
      "chase-me-paris-nights-2_977/index.html\n",
      "black-dust_976/index.html\n",
      "birdsong-a-story-in-pictures_975/index.html\n",
      "americas-cradle-of-quarterbacks-western-pennsylvanias-football-factory-from-johnny-unitas-to-joe-montana_974/index.html\n",
      "aladdin-and-his-wonderful-lamp_973/index.html\n",
      "worlds-elsewhere-journeys-around-shakespeares-globe_972/index.html\n",
      "wall-and-piece_971/index.html\n",
      "the-four-agreements-a-practical-guide-to-personal-freedom_970/index.html\n",
      "the-five-love-languages-how-to-express-heartfelt-commitment-to-your-mate_969/index.html\n",
      "the-elephant-tree_968/index.html\n",
      "the-bear-and-the-piano_967/index.html\n",
      "sophies-world_966/index.html\n",
      "penny-maybe_965/index.html\n",
      "maude-1883-1993she-grew-up-with-the-country_964/index.html\n",
      "in-a-dark-dark-wood_963/index.html\n",
      "behind-closed-doors_962/index.html\n",
      "you-cant-bury-them-all-poems_961/index.html\n",
      "slow-states-of-collapse-poems_960/index.html\n",
      "reasons-to-stay-alive_959/index.html\n",
      "private-paris-private-10_958/index.html\n",
      "higherselfie-wake-up-your-life-free-your-soul-find-your-tribe_957/index.html\n",
      "without-borders-wanderlove-1_956/index.html\n",
      "when-we-collided_955/index.html\n",
      "we-love-you-charlie-freeman_954/index.html\n",
      "untitled-collection-sabbath-poems-2014_953/index.html\n",
      "unseen-city-the-majesty-of-pigeons-the-discreet-charm-of-snails-other-wonders-of-the-urban-wilderness_952/index.html\n",
      "unicorn-tracks_951/index.html\n",
      "unbound-how-eight-technologies-made-us-human-transformed-society-and-brought-our-world-to-the-brink_950/index.html\n",
      "tsubasa-world-chronicle-2-tsubasa-world-chronicle-2_949/index.html\n",
      "throwing-rocks-at-the-google-bus-how-growth-became-the-enemy-of-prosperity_948/index.html\n",
      "this-one-summer_947/index.html\n",
      "thirst_946/index.html\n",
      "the-torch-is-passed-a-harding-family-story_945/index.html\n",
      "the-secret-of-dreadwillow-carse_944/index.html\n",
      "the-pioneer-woman-cooks-dinnertime-comfort-classics-freezer-food-16-minute-meals-and-other-delicious-ways-to-solve-supper_943/index.html\n",
      "the-past-never-ends_942/index.html\n",
      "the-natural-history-of-us-the-fine-art-of-pretending-2_941/index.html\n",
      "the-nameless-city-the-nameless-city-1_940/index.html\n",
      "the-murder-that-never-was-forensic-instincts-5_939/index.html\n",
      "the-most-perfect-thing-inside-and-outside-a-birds-egg_938/index.html\n",
      "the-mindfulness-and-acceptance-workbook-for-anxiety-a-guide-to-breaking-free-from-anxiety-phobias-and-worry-using-acceptance-and-commitment-therapy_937/index.html\n",
      "the-life-changing-magic-of-tidying-up-the-japanese-art-of-decluttering-and-organizing_936/index.html\n",
      "the-inefficiency-assassin-time-management-tactics-for-working-smarter-not-longer_935/index.html\n",
      "the-gutsy-girl-escapades-for-your-life-of-epic-adventure_934/index.html\n",
      "the-electric-pencil-drawings-from-inside-state-hospital-no-3_933/index.html\n",
      "the-death-of-humanity-and-the-case-for-life_932/index.html\n",
      "the-bulletproof-diet-lose-up-to-a-pound-a-day-reclaim-energy-and-focus-upgrade-your-life_931/index.html\n",
      "the-art-forger_930/index.html\n",
      "the-age-of-genius-the-seventeenth-century-and-the-birth-of-the-modern-mind_929/index.html\n",
      "the-activists-tao-te-ching-ancient-advice-for-a-modern-revolution_928/index.html\n",
      "spark-joy-an-illustrated-master-class-on-the-art-of-organizing-and-tidying-up_927/index.html\n",
      "soul-reader_926/index.html\n",
      "security_925/index.html\n",
      "saga-volume-6-saga-collected-editions-6_924/index.html\n",
      "saga-volume-5-saga-collected-editions-5_923/index.html\n",
      "reskilling-america-learning-to-labor-in-the-twenty-first-century_922/index.html\n",
      "rat-queens-vol-3-demons-rat-queens-collected-editions-11-15_921/index.html\n",
      "princess-jellyfish-2-in-1-omnibus-vol-01-princess-jellyfish-2-in-1-omnibus-1_920/index.html\n",
      "princess-between-worlds-wide-awake-princess-5_919/index.html\n",
      "pop-gun-war-volume-1-gift_918/index.html\n",
      "political-suicide-missteps-peccadilloes-bad-calls-backroom-hijinx-sordid-pasts-rotten-breaks-and-just-plain-dumb-mistakes-in-the-annals-of-american-politics_917/index.html\n",
      "patience_916/index.html\n",
      "outcast-vol-1-a-darkness-surrounds-him-outcast-1_915/index.html\n",
      "orange-the-complete-collection-1-orange-the-complete-collection-1_914/index.html\n",
      "online-marketing-for-busy-authors-a-step-by-step-guide_913/index.html\n",
      "on-a-midnight-clear_912/index.html\n",
      "obsidian-lux-1_911/index.html\n",
      "my-paris-kitchen-recipes-and-stories_910/index.html\n",
      "masks-and-shadows_909/index.html\n",
      "mama-tried-traditional-italian-cooking-for-the-screwed-crude-vegan-and-tattooed_908/index.html\n",
      "lumberjanes-vol-2-friendship-to-the-max-lumberjanes-5-8_907/index.html\n",
      "lumberjanes-vol-1-beware-the-kitten-holy-lumberjanes-1-4_906/index.html\n",
      "lumberjanes-vol-3-a-terrible-plan-lumberjanes-9-12_905/index.html\n",
      "layered-baking-building-and-styling-spectacular-cakes_904/index.html\n",
      "judo-seven-steps-to-black-belt-an-introductory-guide-for-beginners_903/index.html\n",
      "join_902/index.html\n",
      "in-the-country-we-love-my-family-divided_901/index.html\n",
      "immunity-how-elie-metchnikoff-changed-the-course-of-modern-medicine_900/index.html\n",
      "i-hate-fairyland-vol-1-madly-ever-after-i-hate-fairyland-compilations-1-5_899/index.html\n",
      "i-am-a-hero-omnibus-volume-1_898/index.html\n",
      "how-to-be-miserable-40-strategies-you-already-use_897/index.html\n",
      "her-backup-boyfriend-the-sorensen-family-1_896/index.html\n",
      "giant-days-vol-2-giant-days-5-8_895/index.html\n",
      "forever-and-forever-the-courtship-of-henry-longfellow-and-fanny-appleton_894/index.html\n",
      "first-and-first-five-boroughs-3_893/index.html\n",
      "fifty-shades-darker-fifty-shades-2_892/index.html\n",
      "everydata-the-misinformation-hidden-in-the-little-data-you-consume-every-day_891/index.html\n",
      "dont-be-a-jerk-and-other-practical-advice-from-dogen-japans-greatest-zen-master_890/index.html\n",
      "danganronpa-volume-1_889/index.html\n",
      "crown-of-midnight-throne-of-glass-2_888/index.html\n",
      "codename-baboushka-volume-1-the-conclave-of-death_887/index.html\n",
      "camp-midnight_886/index.html\n",
      "call-the-nurse-true-stories-of-a-country-nurse-on-a-scottish-isle_885/index.html\n",
      "burning_884/index.html\n",
      "bossypants_883/index.html\n",
      "bitch-planet-vol-1-extraordinary-machine-bitch-planet-collected-editions_882/index.html\n",
      "avatar-the-last-airbender-smoke-and-shadow-part-3-smoke-and-shadow-3_881/index.html\n"
     ]
    }
   ],
   "source": [
    "#button = book_soup.find(\"li\" , class_ = \"next\")\n",
    "for x in range(1, 7):\n",
    "    html = browser.html\n",
    "    book_soup = soup (html ,'html.parser')\n",
    "    book_details = book_soup.find_all(\"div\" , class_ = \"image_container\")\n",
    "    for detail in book_details:\n",
    "        book_link = detail.find('a')['href']\n",
    "        print(book_link)\n",
    "    btn = book_soup.find_all(\"li\" , \"next\")\n",
    "    for txt in btn:\n",
    "        next_btn = txt.text\n",
    "        browser.links.find_by_text(next_btn).click()\n"
   ]
  }
 ],
 "metadata": {
  "kernelspec": {
   "display_name": "Python 3 (ipykernel)",
   "language": "python",
   "name": "python3"
  },
  "language_info": {
   "codemirror_mode": {
    "name": "ipython",
    "version": 3
   },
   "file_extension": ".py",
   "mimetype": "text/x-python",
   "name": "python",
   "nbconvert_exporter": "python",
   "pygments_lexer": "ipython3",
   "version": "3.9.12"
  }
 },
 "nbformat": 4,
 "nbformat_minor": 5
}
